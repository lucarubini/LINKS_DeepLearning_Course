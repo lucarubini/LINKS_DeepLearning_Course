{
  "nbformat": 4,
  "nbformat_minor": 0,
  "metadata": {
    "colab": {
      "name": "TF_tutorial.ipynb",
      "provenance": [],
      "authorship_tag": "ABX9TyMti8yBWHr65vWn3M8MHCwy",
      "include_colab_link": true
    },
    "kernelspec": {
      "name": "python3",
      "display_name": "Python 3"
    },
    "language_info": {
      "name": "python"
    }
  },
  "cells": [
    {
      "cell_type": "markdown",
      "metadata": {
        "id": "view-in-github",
        "colab_type": "text"
      },
      "source": [
        "<a href=\"https://colab.research.google.com/github/lucarubini/LINKS_DeepLearning_Course/blob/main/time_series_tutorial/TF_tutorial.ipynb\" target=\"_parent\"><img src=\"https://colab.research.google.com/assets/colab-badge.svg\" alt=\"Open In Colab\"/></a>"
      ]
    },
    {
      "cell_type": "markdown",
      "metadata": {
        "id": "EDZa0fHfow1m"
      },
      "source": [
        "# Set up TensorFlow\n",
        "\n",
        "(questo tutorial e' basato sul tutorial uffciale di `Tensorflow` a [questa pagina](https://www.tensorflow.org/tutorials/quickstart/beginner))\n",
        "\n",
        "Importiamo `TensorFlow` nel nostro notebook per iniziare il tutorial:\n"
      ]
    },
    {
      "cell_type": "code",
      "metadata": {
        "colab": {
          "base_uri": "https://localhost:8080/"
        },
        "id": "plfz7Hhqc_jM",
        "outputId": "5ffc0236-c14a-4cbf-94cc-07c12b873c2f"
      },
      "source": [
        "import matplotlib.pyplot as plt\n",
        "import tensorflow as tf\n",
        "print(\"TensorFlow version:\", tf.__version__)"
      ],
      "execution_count": null,
      "outputs": [
        {
          "output_type": "stream",
          "name": "stdout",
          "text": [
            "TensorFlow version: 2.7.0\n"
          ]
        }
      ]
    },
    {
      "cell_type": "markdown",
      "metadata": {
        "id": "ik-5Zuw2o7mt"
      },
      "source": [
        "# Load a dataset\n",
        "Carichiamo e prepariamo(normalizzando gli input) il dataset **MNIST** dataset. Convertiamo poi gli esempi in precisione floating point.\n",
        "\n",
        "Questi passi di conversione e divisione train/test set sono tutti automatizzati, qualora si volesse lavorare su dati personali bisogna costruire la pipeline per fornire i dati al modello."
      ]
    },
    {
      "cell_type": "code",
      "metadata": {
        "id": "zsXhVnbydD14"
      },
      "source": [
        "mnist = tf.keras.datasets.mnist\n",
        "\n",
        "(x_train, y_train), (x_test, y_test) = mnist.load_data()\n",
        "x_train, x_test = x_train / 255.0, x_test / 255.0"
      ],
      "execution_count": null,
      "outputs": []
    },
    {
      "cell_type": "code",
      "metadata": {
        "colab": {
          "base_uri": "https://localhost:8080/"
        },
        "id": "0Ye7fwlLhTGe",
        "outputId": "452e9450-ed25-4f0f-fe43-a05d1111321a"
      },
      "source": [
        "#Guardiamo quali sono le dimensioni degli elementi che abbiamo definito per il test/train\n",
        "print(\"x_train.shape: {}\".format(x_train.shape))\n",
        "print(\"y_train.shape: {}\".format(y_train.shape))"
      ],
      "execution_count": null,
      "outputs": [
        {
          "output_type": "stream",
          "name": "stdout",
          "text": [
            "x_train.shape: (60000, 28, 28)\n",
            "y_train.shape: (60000,)\n"
          ]
        }
      ]
    },
    {
      "cell_type": "markdown",
      "metadata": {
        "id": "R9O4mzjUuQdS"
      },
      "source": [
        "Osserviamo ora come sono strutturati i dati e che 'aspetto' hanno le caratteristiche di `input/output`:"
      ]
    },
    {
      "cell_type": "code",
      "metadata": {
        "colab": {
          "base_uri": "https://localhost:8080/",
          "height": 282
        },
        "id": "WpxHdMN2hWQ2",
        "outputId": "05e749a3-772f-48cf-f927-09079de70332"
      },
      "source": [
        "idx_i = 7\n",
        "#Show Image\n",
        "plt.imshow(x_train[idx_i,:,:])\n",
        "print(\"Label (target): {}\".format(y_train[idx_i]))\n"
      ],
      "execution_count": null,
      "outputs": [
        {
          "output_type": "stream",
          "name": "stdout",
          "text": [
            "Label (target): 3\n"
          ]
        },
        {
          "output_type": "display_data",
          "data": {
            "image/png": "[encoded data removed]",
            "text/plain": [
              "<Figure size 432x288 with 1 Axes>"
            ]
          },
          "metadata": {
            "needs_background": "light"
          }
        }
      ]
    },
    {
      "cell_type": "markdown",
      "metadata": {
        "id": "H5JESLlynw91"
      },
      "source": [
        "# Build a (simple) machine learning model\n",
        "Possiamo ora definireun modello usando il modulo di `keras` `tf.keras.Sequential`, che consiste in un modello dove i layers sono impilati uno dopo l'altro.\n",
        " \n",
        "Considerando le caratteristiche dell'input e dell'output abbiamo:\n",
        "*   Input: `28*28=784` pixels\n",
        "*   Output: `10` classi\n",
        "\n",
        "Il Layer di `tf.keras.layers.Flatten` trasforma un tensore, in questo caso una matrice quadrata in un singolo array concatenando tutti i valori. [Flatten Layer Documentation](https://www.tensorflow.org/api_docs/python/tf/keras/layers/Flattene)\n",
        "\n",
        "Il Layer `tf.keras.layers.Dense` e' il layer per effetuare la moltiplicaizone matriciale e l'eventuale attivazione non-lineare. [Dense Layer Documentation](https://www.tensorflow.org/api_docs/python/tf/keras/layers/Dense)\n",
        "\n",
        "Osserviamo che anche se stiamo facendo un task di `multi-classification` usiamo come output del nostro modello un output lineare (e non `softmax`), questo perche' la funzione e' implementata all'interno della loss che abbiamo deciso di usare, ed e' proprio una specifica della funzione quella di ricevere un output ti tipo `Linear`.\n",
        "\n",
        "  ![One prediction 24 hours into the future.](https://andreaprovino.it/wp-content/uploads/2020/09/tensorflow-neural-network-schema-tensorflow-mnist-tutorial-italiano-esempio-guida-tensorflow-italia-tensorflow-classification-hello-world-single-digit.png)"
      ]
    },
    {
      "cell_type": "code",
      "metadata": {
        "id": "2enLkXWSdG-9"
      },
      "source": [
        "model = tf.keras.models.Sequential([\n",
        "  tf.keras.layers.Flatten(input_shape=(28, 28)),\n",
        "  tf.keras.layers.Dense(128, activation='relu'),\n",
        "  tf.keras.layers.Dense(10)\n",
        "])"
      ],
      "execution_count": null,
      "outputs": []
    },
    {
      "cell_type": "markdown",
      "metadata": {
        "id": "q3n-HIbU2mil"
      },
      "source": [
        "Ispezioniamo ora il modello, per vedere da quali parametri(pesi) è costruito e che dimensione ha"
      ]
    },
    {
      "cell_type": "code",
      "metadata": {
        "colab": {
          "base_uri": "https://localhost:8080/"
        },
        "id": "Q2Y5AnDy2owq",
        "outputId": "3627263d-c4ea-4ceb-b909-a9a2ad5345e1"
      },
      "source": [
        "model.summary()\n",
        "\n",
        "model.get_weights()\n",
        "\n",
        "for i,W in enumerate(model.get_weights()):\n",
        "    print(\"W_{}.shape: {}\".format(i,W.shape))"
      ],
      "execution_count": null,
      "outputs": [
        {
          "output_type": "stream",
          "name": "stdout",
          "text": [
            "Model: \"sequential\"\n",
            "_________________________________________________________________\n",
            " Layer (type)                Output Shape              Param #   \n",
            "=================================================================\n",
            " flatten (Flatten)           (None, 784)               0         \n",
            "                                                                 \n",
            " dense (Dense)               (None, 128)               100480    \n",
            "                                                                 \n",
            " dense_1 (Dense)             (None, 10)                1290      \n",
            "                                                                 \n",
            "=================================================================\n",
            "Total params: 101,770\n",
            "Trainable params: 101,770\n",
            "Non-trainable params: 0\n",
            "_________________________________________________________________\n",
            "W_0.shape: (784, 128)\n",
            "W_1.shape: (128,)\n",
            "W_2.shape: (128, 10)\n",
            "W_3.shape: (10,)\n"
          ]
        }
      ]
    },
    {
      "cell_type": "markdown",
      "metadata": {
        "id": "XqoAtHCWpIBX"
      },
      "source": [
        "Per ciascun esempio il modello restituisce un vettore di logits della stessa lungehzza del numero delle classi (in questo caso `10`, un valore per ciascuna classe)"
      ]
    },
    {
      "cell_type": "code",
      "metadata": {
        "colab": {
          "base_uri": "https://localhost:8080/"
        },
        "id": "5VIeNDf2dJus",
        "outputId": "03944776-985b-43e1-fc15-e16451fe054d"
      },
      "source": [
        "predictions = model(x_train[:1]).numpy()\n",
        "predictions"
      ],
      "execution_count": null,
      "outputs": [
        {
          "output_type": "execute_result",
          "data": {
            "text/plain": [
              "array([[ 0.1958458 ,  0.41121256,  0.42560673, -0.5870664 ,  0.00310168,\n",
              "        -0.84311926, -0.00756774, -0.03565638, -0.47903728,  0.01381977]],\n",
              "      dtype=float32)"
            ]
          },
          "metadata": {},
          "execution_count": 6
        }
      ]
    },
    {
      "cell_type": "markdown",
      "metadata": {
        "id": "W6ePir7jpMeV"
      },
      "source": [
        "La funzione `tf.nn.softmax` converte l'output logits in distribuzione di probabilita'. Osserviamo quali sono le similitudini e differenze tra l'output logits e quello della softmax."
      ]
    },
    {
      "cell_type": "code",
      "metadata": {
        "colab": {
          "base_uri": "https://localhost:8080/"
        },
        "id": "UWHwH1aidL-e",
        "outputId": "319c026b-afc9-4f13-a104-e8c9c6379c23"
      },
      "source": [
        "predictions_softmax = tf.nn.softmax(predictions).numpy()\n",
        "predictions_softmax"
      ],
      "execution_count": null,
      "outputs": [
        {
          "output_type": "execute_result",
          "data": {
            "text/plain": [
              "array([[0.12366626, 0.15338533, 0.15560915, 0.0565245 , 0.10198669,\n",
              "        0.04375568, 0.10090434, 0.0981095 , 0.06297283, 0.10308567]],\n",
              "      dtype=float32)"
            ]
          },
          "metadata": {},
          "execution_count": 7
        }
      ]
    },
    {
      "cell_type": "code",
      "metadata": {
        "colab": {
          "base_uri": "https://localhost:8080/"
        },
        "id": "lFFTx_wNlsmY",
        "outputId": "a36780a5-6901-403a-b7e7-b6dd5c5d0c96"
      },
      "source": [
        "print(\"Prediction.sum(): {}\".format(predictions.sum()))\n",
        "print(\"Prediction_softmax.sum(): {}\".format(predictions_softmax.sum()))\n",
        "print(\"Prediction sorted index: {}\".format(predictions.argsort()[0]))\n",
        "print(\"Prediction_softmax sorted index: {}\".format(predictions_softmax.argsort()[0]))"
      ],
      "execution_count": null,
      "outputs": [
        {
          "output_type": "stream",
          "name": "stdout",
          "text": [
            "Prediction.sum(): -0.9028605222702026\n",
            "Prediction_softmax.sum(): 0.9999999403953552\n",
            "Prediction sorted index: [5 3 8 7 6 4 9 0 1 2]\n",
            "Prediction_softmax sorted index: [5 3 8 7 6 4 9 0 1 2]\n"
          ]
        }
      ]
    },
    {
      "cell_type": "markdown",
      "metadata": {
        "id": "OYM-NvztpTIu"
      },
      "source": [
        "Definiamo una funzione di `loss` per il training usando la funzione `losses.SparseCategoricalCrossentropy`, che prende in considerazione un vettore di logits (indicato tramite l'indice booleano `from_logits` e restituisce uno scalare per ciascun esempio."
      ]
    },
    {
      "cell_type": "code",
      "metadata": {
        "id": "4g8nKbHidN1d"
      },
      "source": [
        "loss_fn = tf.keras.losses.SparseCategoricalCrossentropy(from_logits=True)"
      ],
      "execution_count": null,
      "outputs": []
    },
    {
      "cell_type": "markdown",
      "metadata": {
        "id": "Nm4aZUiYpZKI"
      },
      "source": [
        "Questa `loss` e' uguale alla `negative log probability` della classe corretta:  il valore della funzione `loss` vale zero se il modello resituisce la distribuzione corretta (che non significa che restituisca la classe corretta).\n",
        "\n",
        "Un modello non addestrato (inizializzato in maniera casuale) restituisce una probabilita' prossiam a quella di aver scelto una classe casualmente (1/10 per ciascuna classe), cosi' la `loss` iniziale dovrebbe essere prossima al valore di `-tf.math.log(1/10) ~= 2.3.`"
      ]
    },
    {
      "cell_type": "code",
      "metadata": {
        "colab": {
          "base_uri": "https://localhost:8080/"
        },
        "id": "bOtLob8WdRQN",
        "outputId": "f5f82a19-a0a2-45d1-f2bd-eec2c9b30988"
      },
      "source": [
        "loss_fn(y_train[:1], predictions).numpy()"
      ],
      "execution_count": null,
      "outputs": [
        {
          "output_type": "execute_result",
          "data": {
            "text/plain": [
              "3.1291337"
            ]
          },
          "metadata": {},
          "execution_count": 10
        }
      ]
    },
    {
      "cell_type": "markdown",
      "metadata": {
        "id": "ox0kVR4iyVWb"
      },
      "source": [
        "Definiamo ora una funzione `probability_model` che possa resituire la distribuzione di probabilita' per il dato input."
      ]
    },
    {
      "cell_type": "code",
      "metadata": {
        "id": "Ecd186P7kud9"
      },
      "source": [
        "probability_model = tf.keras.Sequential([\n",
        "  model,\n",
        "  tf.keras.layers.Softmax()\n",
        "])"
      ],
      "execution_count": null,
      "outputs": []
    },
    {
      "cell_type": "markdown",
      "metadata": {
        "id": "mXNxuGiypfm3"
      },
      "source": [
        "Prima di incominciare l'addestramento, configurare e compilare il mdeollo usando le librerie del modulo `Keras`. Settiamo l'ottimizzatore come *Adam*, passiamo anche la `loss` e la metrica che vogliamo usare per valutare il modello (addestriamo seguendo la cross-entropy, ma poi valutiamo usando l'accuratezza)."
      ]
    },
    {
      "cell_type": "code",
      "metadata": {
        "id": "tCgCCgaEdTBy"
      },
      "source": [
        "model.compile(optimizer='adam',\n",
        "              loss=loss_fn,\n",
        "              metrics=['accuracy'])"
      ],
      "execution_count": null,
      "outputs": []
    },
    {
      "cell_type": "markdown",
      "metadata": {
        "id": "slFlucDIpj8u"
      },
      "source": [
        "# Train and evaluate your model\n",
        "Usiamo il metodo `Model.fit` per addestrare i parametri del modello in modo tale da minimizzare la funzione di `loss` per gli esempi presentati durante il training.\n",
        "\n",
        "Osserviamo prima le performances del modello inizializzato casualmente."
      ]
    },
    {
      "cell_type": "code",
      "metadata": {
        "colab": {
          "base_uri": "https://localhost:8080/",
          "height": 282
        },
        "id": "ud6jxLJXkwhl",
        "outputId": "a57de12b-d7c2-4fa8-c373-6d6d343fa169"
      },
      "source": [
        "#Performance on Test set BEFORE Training\n",
        "example_test_idx = 42\n",
        "\n",
        "plt.imshow(x_test[example_test_idx-1,:,:])\n",
        "prob_out = probability_model(x_test[example_test_idx-1:example_test_idx,:,:])\n",
        "print(\"Test sample n. {}--> p_out: {} class_out: {} class_target: {}\".format(example_test_idx,prob_out.numpy().max(),prob_out.numpy().argmax(),y_test[example_test_idx-1]))"
      ],
      "execution_count": null,
      "outputs": [
        {
          "output_type": "stream",
          "name": "stdout",
          "text": [
            "Test sample n. 42--> p_out: 0.1679430902004242 class_out: 2 class_target: 7\n"
          ]
        },
        {
          "output_type": "display_data",
          "data": {
            "image/png": "[encoded data removed]",
            "text/plain": [
              "<Figure size 432x288 with 1 Axes>"
            ]
          },
          "metadata": {
            "needs_background": "light"
          }
        }
      ]
    },
    {
      "cell_type": "markdown",
      "metadata": {
        "id": "f9euYX9-0qd_"
      },
      "source": [
        "Osseriviamo come il metodo `fit` disponga di un'interfaccia grafica che monitora l'andamento dell'addestramento del modello."
      ]
    },
    {
      "cell_type": "code",
      "metadata": {
        "colab": {
          "base_uri": "https://localhost:8080/"
        },
        "id": "FMO7CbCedY29",
        "outputId": "30ba9ed5-9da1-41f6-f604-1f97bd381883"
      },
      "source": [
        "model.fit(x_train, y_train, epochs=5)"
      ],
      "execution_count": null,
      "outputs": [
        {
          "output_type": "stream",
          "name": "stdout",
          "text": [
            "Epoch 1/5\n",
            "1875/1875 [==============================] - 5s 2ms/step - loss: 0.2594 - accuracy: 0.9262\n",
            "Epoch 2/5\n",
            "1875/1875 [==============================] - 4s 2ms/step - loss: 0.1154 - accuracy: 0.9664\n",
            "Epoch 3/5\n",
            "1875/1875 [==============================] - 4s 2ms/step - loss: 0.0791 - accuracy: 0.9761\n",
            "Epoch 4/5\n",
            "1875/1875 [==============================] - 4s 2ms/step - loss: 0.0586 - accuracy: 0.9822\n",
            "Epoch 5/5\n",
            "1875/1875 [==============================] - 4s 2ms/step - loss: 0.0460 - accuracy: 0.9862\n"
          ]
        },
        {
          "output_type": "execute_result",
          "data": {
            "text/plain": [
              "<keras.callbacks.History at 0x7f64e5af2190>"
            ]
          },
          "metadata": {},
          "execution_count": 14
        }
      ]
    },
    {
      "cell_type": "markdown",
      "metadata": {
        "id": "Mh3O8jWdpoWA"
      },
      "source": [
        "Il metodo `Model.evaluate` implementa la valutazione del modello per misurare le performances, di solito per `\"Validation-set\"` or `\"Test-set\"`."
      ]
    },
    {
      "cell_type": "code",
      "metadata": {
        "colab": {
          "base_uri": "https://localhost:8080/"
        },
        "id": "1C-Khmqmdmyl",
        "outputId": "de83046e-fd4e-4fba-c6f4-3ccb63010b4f"
      },
      "source": [
        "model.evaluate(x_test,  y_test, verbose=2)"
      ],
      "execution_count": null,
      "outputs": [
        {
          "output_type": "stream",
          "name": "stdout",
          "text": [
            "313/313 - 1s - loss: 0.0824 - accuracy: 0.9753 - 525ms/epoch - 2ms/step\n"
          ]
        },
        {
          "output_type": "execute_result",
          "data": {
            "text/plain": [
              "[0.08239200711250305, 0.9753000140190125]"
            ]
          },
          "metadata": {},
          "execution_count": 15
        }
      ]
    },
    {
      "cell_type": "markdown",
      "metadata": {
        "id": "sgwF7xPHpuH_"
      },
      "source": [
        "Il modello riporta un'accuratezza `>95%` sul test set, e' possibile aumentare ulteriormente l'accuratezza:\n",
        " ~98% accuracy on this dataset. To learn more, read the TensorFlow tutorials.\n",
        "\n",
        "*   Inserendo un layer di Dropout\n",
        "*   Definendo un modello piu' profondo/complesso\n",
        "*   Definendo un nuovo modello (differente architettura)\n",
        "*   Cambiando degli hparams\n",
        "*   ...\n",
        "\n",
        "Osserviamo ora qual e' l'output del modello per un batch di esempi, osserivamo che restituisce una matrice di array di dimensione `Number_of_examples x number_ofclasses` "
      ]
    },
    {
      "cell_type": "code",
      "metadata": {
        "colab": {
          "base_uri": "https://localhost:8080/"
        },
        "id": "FKBXSlWMdq4N",
        "outputId": "f429025c-ee30-46e2-b2c6-ba64965660e5"
      },
      "source": [
        "probability_model(x_test[:5])"
      ],
      "execution_count": null,
      "outputs": [
        {
          "output_type": "execute_result",
          "data": {
            "text/plain": [
              "<tf.Tensor: shape=(5, 10), dtype=float32, numpy=\n",
              "array([[2.96670692e-07, 5.41409406e-07, 4.79536866e-05, 2.24961364e-03,\n",
              "        1.86286364e-09, 2.05629044e-06, 1.01910006e-12, 9.97597158e-01,\n",
              "        7.15079732e-05, 3.07983137e-05],\n",
              "       [4.14711110e-08, 2.48895609e-04, 9.99739945e-01, 9.79844663e-06,\n",
              "        1.27727738e-16, 1.02361234e-07, 6.49256338e-09, 3.87007964e-14,\n",
              "        1.15795137e-06, 2.62283434e-15],\n",
              "       [5.52473637e-07, 9.96210694e-01, 3.88982269e-04, 3.10656214e-05,\n",
              "        3.72519338e-04, 3.37898564e-05, 7.72957083e-06, 4.49178711e-04,\n",
              "        2.50133546e-03, 4.11393103e-06],\n",
              "       [9.99551237e-01, 3.58478403e-08, 4.93444031e-06, 7.28197904e-07,\n",
              "        4.31413945e-08, 1.08524709e-07, 6.60813555e-07, 4.41848621e-04,\n",
              "        8.04866243e-11, 5.34052049e-07],\n",
              "       [6.34878802e-07, 2.91672642e-08, 2.62313300e-08, 1.55953772e-09,\n",
              "        9.99438345e-01, 1.26350930e-08, 2.29302509e-06, 1.11653353e-05,\n",
              "        7.49877813e-07, 5.46881056e-04]], dtype=float32)>"
            ]
          },
          "metadata": {},
          "execution_count": 16
        }
      ]
    },
    {
      "cell_type": "markdown",
      "metadata": {
        "id": "C1gw5-Zu069-"
      },
      "source": [
        "Osserviamo ora le performances del modello addestrato sugli stessi dati visti in precedensza, vediamo che le performances sono migliorate:"
      ]
    },
    {
      "cell_type": "code",
      "metadata": {
        "colab": {
          "base_uri": "https://localhost:8080/",
          "height": 282
        },
        "id": "ykQcBNTAdXLb",
        "outputId": "b87ab549-089a-4d94-d2f1-f1a0764244e7"
      },
      "source": [
        "#Performance on Test set AFTER Training\n",
        "\n",
        "plt.imshow(x_test[example_test_idx-1,:,:])\n",
        "\n",
        "prob_out = probability_model(x_test[example_test_idx-1:example_test_idx,:,:])\n",
        "print(\"Test sample n. {}--> p_out: {} class_out: {} class_target: {}\".format(example_test_idx,prob_out.numpy().max(),prob_out.numpy().argmax(),y_test[example_test_idx-1]))"
      ],
      "execution_count": null,
      "outputs": [
        {
          "output_type": "stream",
          "name": "stdout",
          "text": [
            "Test sample n. 42--> p_out: 0.9995068311691284 class_out: 7 class_target: 7\n"
          ]
        },
        {
          "output_type": "display_data",
          "data": {
            "image/png": "[encoded data removed]",
            "text/plain": [
              "<Figure size 432x288 with 1 Axes>"
            ]
          },
          "metadata": {
            "needs_background": "light"
          }
        }
      ]
    },
    {
      "cell_type": "markdown",
      "metadata": {
        "id": "dThqTJGJpxW-"
      },
      "source": [
        "# Conclusion\n",
        "Congratulazioni abbiamo terminato il tutorial di `Tensorflow`. Per ulteriori dettagli e informazioni visita il sito ufficiale di [Tensorflow](https://www.tensorflow.org/)."
      ]
    }
  ]
}