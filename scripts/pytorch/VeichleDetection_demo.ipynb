{
  "nbformat": 4,
  "nbformat_minor": 0,
  "metadata": {
    "colab": {
      "name": "VeichleDetection_demo.ipynb",
      "provenance": [],
      "authorship_tag": "ABX9TyPAU9Rwm16ZU0yqBud/cmK9",
      "include_colab_link": true
    },
    "kernelspec": {
      "name": "python3",
      "display_name": "Python 3"
    },
    "language_info": {
      "name": "python"
    },
    "accelerator": "GPU"
  },
  "cells": [
    {
      "cell_type": "markdown",
      "metadata": {
        "id": "view-in-github",
        "colab_type": "text"
      },
      "source": [
        "<a href=\"https://colab.research.google.com/github/lucarubini/LINKS_DeepLearning_Course/blob/main/scripts/pytorch/VeichleDetection_demo.ipynb\" target=\"_parent\"><img src=\"https://colab.research.google.com/assets/colab-badge.svg\" alt=\"Open In Colab\"/></a>"
      ]
    },
    {
      "cell_type": "markdown",
      "metadata": {
        "id": "UQ5PDc8HxnEf"
      },
      "source": [
        "# **Veichle Detection (with PreTrained model)**\n",
        "In this tutorial we see how to use a pre-trained model for Veichle detection task.\n",
        "\n",
        "Reference repository: https://github.com/MaryamBoneh/Vehicle-Detection"
      ]
    },
    {
      "cell_type": "code",
      "metadata": {
        "id": "eiY7_Y0ovLt6"
      },
      "source": [
        "!git clone https://github.com/MaryamBoneh/Vehicle-Detection\n",
        "%pwd"
      ],
      "execution_count": null,
      "outputs": []
    },
    {
      "cell_type": "code",
      "metadata": {
        "id": "61DDN8Vr9KcH"
      },
      "source": [
        "%cd Vehicle-Detection/\n",
        "pip install -r requirements.txt"
      ],
      "execution_count": null,
      "outputs": []
    },
    {
      "cell_type": "code",
      "metadata": {
        "id": "MF1fVBVB9b4u"
      },
      "source": [
        "#Additional package\n",
        "!pip install wandb"
      ],
      "execution_count": null,
      "outputs": []
    },
    {
      "cell_type": "code",
      "metadata": {
        "id": "wDxJ993Y9mqv"
      },
      "source": [
        "#Run detection on image\n",
        "!python detect.py --weights runs/train/exp12/weights/best.pt --source test_images/imtest13.JPG"
      ],
      "execution_count": null,
      "outputs": []
    },
    {
      "cell_type": "code",
      "metadata": {
        "id": "7OM1n_Ts9t50"
      },
      "source": [
        "#Run detection on image saving the output (box coordinates) as txt\n",
        "!python detect.py --weights runs/train/exp12/weights/best.pt --source test_images/imtest10.jpeg --save-txt "
      ],
      "execution_count": null,
      "outputs": []
    },
    {
      "cell_type": "code",
      "metadata": {
        "id": "C6s6EaXz9w8f"
      },
      "source": [
        "#Run detection on video saving the output (box coordinates) as txt\n",
        "!python detect.py --weights runs/train/exp12/weights/best.pt --source test_images/v1.mp4 --save-txt "
      ],
      "execution_count": null,
      "outputs": []
    },
    {
      "cell_type": "markdown",
      "metadata": {
        "id": "xd_hBQv4xknO"
      },
      "source": [
        "Inspect the detect.py script.\n",
        "\n",
        "System based on YOLO System (You Only Look Once) https://github.com/ultralytics/yolov5\n",
        "\n",
        "Try now on your own images/video\n",
        "1. Upload data to the folder\n",
        "2. Run detection script\n",
        "\n",
        "\n",
        "\n"
      ]
    },
    {
      "cell_type": "code",
      "metadata": {
        "id": "5WRR1iow9yu3"
      },
      "source": [
        ""
      ],
      "execution_count": null,
      "outputs": []
    }
  ]
}
