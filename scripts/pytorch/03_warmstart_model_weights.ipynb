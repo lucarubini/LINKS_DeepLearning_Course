{
  "nbformat": 4,
  "nbformat_minor": 0,
  "metadata": {
    "colab": {
      "name": "03-warmstart_model_weights.ipynb",
      "provenance": [],
      "authorship_tag": "ABX9TyMObcHfCqtNCE0IqL6yZBqU",
      "include_colab_link": true
    },
    "kernelspec": {
      "name": "python3",
      "display_name": "Python 3"
    },
    "language_info": {
      "name": "python"
    }
  },
  "cells": [
    {
      "cell_type": "markdown",
      "metadata": {
        "id": "view-in-github",
        "colab_type": "text"
      },
      "source": [
        "<a href=\"https://colab.research.google.com/github/lucarubini/LINKS_DeepLearning_Course/blob/main/scripts/pytorch/03_warmstart_model_weights.ipynb\" target=\"_parent\"><img src=\"https://colab.research.google.com/assets/colab-badge.svg\" alt=\"Open In Colab\"/></a>"
      ]
    },
    {
      "cell_type": "code",
      "metadata": {
        "id": "BpQPp_QBtN3r"
      },
      "source": [
        "import torch\n",
        "import torch.nn as nn\n",
        "import torch.optim as optim"
      ],
      "execution_count": 1,
      "outputs": []
    },
    {
      "cell_type": "markdown",
      "metadata": {
        "id": "rJJ-jQ3btU6P"
      },
      "source": [
        "# WARMSTARTING MODEL USING PARAMETERS FROM A DIFFERENT MODEL\n",
        "\n",
        "Partially loading a model or loading a partial model are common scenarios when transfer learning or training a new complex model. \n",
        "\n",
        "Leveraging trained parameters, even if only a few are usable, will help to warmstart the training process and hopefully help your model converge much faster than training from scratch.\n",
        "\n",
        "**Introduction**\n",
        "\n",
        "Whether you are loading from a partial `state_dict`, which is missing some `keys`, or loading a `state_dict` with more keys than the model that you are loading into, you can set the strict argument to False in the `load_state_dict()` function to ignore non-matching keys. In this recipe, we will experiment with warmstarting a model using parameters of a different model.\n",
        "\n",
        "\n",
        "**Steps**\n",
        "1. Import all necessary libraries for loading our data\n",
        "2. Define and intialize the neural network A and B\n",
        "3. Save model A\n",
        "4. Load into model B"
      ]
    },
    {
      "cell_type": "code",
      "metadata": {
        "id": "_EL8_1GrtPoG"
      },
      "source": [
        "class NetModel(nn.Module):\n",
        "    def __init__(self):\n",
        "        super(NetA, self).__init__()\n",
        "        self.conv1 = nn.Conv2d(3, 6, 5)\n",
        "        self.pool = nn.MaxPool2d(2, 2)\n",
        "        self.conv2 = nn.Conv2d(6, 16, 5)\n",
        "        self.fc1 = nn.Linear(16 * 5 * 5, 120)\n",
        "        self.fc2 = nn.Linear(120, 84)\n",
        "        self.fc3 = nn.Linear(84, 10)\n",
        "\n",
        "    def forward(self, x):\n",
        "        x = self.pool(F.relu(self.conv1(x)))\n",
        "        x = self.pool(F.relu(self.conv2(x)))\n",
        "        x = x.view(-1, 16 * 5 * 5)\n",
        "        x = F.relu(self.fc1(x))\n",
        "        x = F.relu(self.fc2(x))\n",
        "        x = self.fc3(x)\n",
        "        return x\n",
        "\n",
        "netA = NetModel()\n",
        "\n",
        "netB = NetModel()"
      ],
      "execution_count": 18,
      "outputs": []
    },
    {
      "cell_type": "code",
      "metadata": {
        "id": "bUNYehPvukHB"
      },
      "source": [
        "#Check if weights are different\n",
        "netA.state_dict()['fc3.bias']"
      ],
      "execution_count": null,
      "outputs": []
    },
    {
      "cell_type": "code",
      "metadata": {
        "id": "wC7NpaP4t-_M"
      },
      "source": [
        "netB.state_dict()['fc3.bias']"
      ],
      "execution_count": null,
      "outputs": []
    },
    {
      "cell_type": "code",
      "metadata": {
        "id": "qb3tBwlytszX"
      },
      "source": [
        "# Specify a path to save to\n",
        "PATH = \"model.pt\"\n",
        "\n",
        "torch.save(netA.state_dict(), PATH)"
      ],
      "execution_count": 21,
      "outputs": []
    },
    {
      "cell_type": "code",
      "metadata": {
        "colab": {
          "base_uri": "https://localhost:8080/"
        },
        "id": "IKSvkScytvBf",
        "outputId": "5cb49214-4a2a-4f23-ba75-aefd2397b66e"
      },
      "source": [
        "#Load into Model B\n",
        "netB.load_state_dict(torch.load(PATH), strict=False)"
      ],
      "execution_count": 22,
      "outputs": [
        {
          "output_type": "execute_result",
          "data": {
            "text/plain": [
              "<All keys matched successfully>"
            ]
          },
          "metadata": {},
          "execution_count": 22
        }
      ]
    },
    {
      "cell_type": "code",
      "metadata": {
        "id": "lpg0BvO7t0wR"
      },
      "source": [
        "#Check if weights are equal (override)\n",
        "netA.state_dict()['fc3.bias']"
      ],
      "execution_count": null,
      "outputs": []
    },
    {
      "cell_type": "code",
      "metadata": {
        "id": "_pYxsqgUurHH"
      },
      "source": [
        "netB.state_dict()['fc3.bias']"
      ],
      "execution_count": null,
      "outputs": []
    }
  ]
}